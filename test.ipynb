{
 "cells": [
  {
   "cell_type": "code",
   "execution_count": 1,
   "id": "7d760d2c",
   "metadata": {},
   "outputs": [],
   "source": [
    "import warnings\n",
    "warnings.filterwarnings('ignore')\n",
    "\n",
    "import ipywidgets as widgets\n",
    "from IPython.display import display, clear_output"
   ]
  },
  {
   "cell_type": "code",
   "execution_count": 2,
   "id": "427aa733",
   "metadata": {},
   "outputs": [],
   "source": [
    "#Title\n",
    "label_headline = widgets.Label(\n",
    "                    value=\"DSCI551 Final Project\",\n",
    "                    style_=\"color:red\",\n",
    "                   \n",
    "                )\n",
    "\n",
    "vbox_headline = widgets.HBox([label_headline])"
   ]
  },
  {
   "cell_type": "code",
   "execution_count": 3,
   "id": "e3f941f7",
   "metadata": {},
   "outputs": [],
   "source": [
    "#Operations dropdown\n",
    "operations = widgets.Dropdown(\n",
    "    options=['mkdir', 'ls', 'cat', 'rm', 'put', 'Get Partition Locations', 'Read Partition'],\n",
    "    description='Please select an opreation:',\n",
    "    style={'description_width': 'initial'},\n",
    "    disabled=False,\n",
    ")"
   ]
  },
  {
   "cell_type": "code",
   "execution_count": 4,
   "id": "b4dac21e",
   "metadata": {},
   "outputs": [],
   "source": [
    "# button get result\n",
    "button_send = widgets.Button(\n",
    "                description='Send to grandma',\n",
    "                tooltip='Send',\n",
    "                style={'description_width': 'initial'}\n",
    "            )\n",
    "\n",
    "output = widgets.Output()\n",
    "\n",
    "def on_button_clicked(event):\n",
    "    with output:\n",
    "        clear_output()\n",
    "        if operations.value == 'cat':\n",
    "            print(f\"Doing cat operation...\")\n",
    "        \n",
    "\n",
    "button_send.on_click(on_button_clicked)\n",
    "\n",
    "vbox_result = widgets.VBox([button_send, output])"
   ]
  },
  {
   "cell_type": "code",
   "execution_count": 5,
   "id": "9b2e7d0a",
   "metadata": {},
   "outputs": [],
   "source": [
    "vbox_text = widgets.VBox([operations,vbox_result])"
   ]
  },
  {
   "cell_type": "code",
   "execution_count": 6,
   "id": "3d317e87",
   "metadata": {},
   "outputs": [
    {
     "data": {
      "application/vnd.jupyter.widget-view+json": {
       "model_id": "f54dcdfbca684fc19bcf54c8fc2ca169",
       "version_major": 2,
       "version_minor": 0
      },
      "text/plain": [
       "VBox(children=(HBox(children=(Label(value='DSCI551 Final Project'),)), VBox(children=(Dropdown(description='Pl…"
      ]
     },
     "metadata": {},
     "output_type": "display_data"
    }
   ],
   "source": [
    "page = widgets.VBox([vbox_headline, vbox_text])\n",
    "display(page)"
   ]
  },
  {
   "cell_type": "code",
   "execution_count": null,
   "id": "63ce88d1",
   "metadata": {},
   "outputs": [],
   "source": []
  }
 ],
 "metadata": {
  "kernelspec": {
   "display_name": "Python 3 (ipykernel)",
   "language": "python",
   "name": "python3"
  },
  "language_info": {
   "codemirror_mode": {
    "name": "ipython",
    "version": 3
   },
   "file_extension": ".py",
   "mimetype": "text/x-python",
   "name": "python",
   "nbconvert_exporter": "python",
   "pygments_lexer": "ipython3",
   "version": "3.9.7"
  }
 },
 "nbformat": 4,
 "nbformat_minor": 5
}
