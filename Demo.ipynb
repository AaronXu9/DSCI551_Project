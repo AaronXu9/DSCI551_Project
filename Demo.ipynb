{
 "cells": [
  {
   "cell_type": "code",
   "execution_count": 23,
   "id": "47bd0507",
   "metadata": {},
   "outputs": [],
   "source": [
    "import warnings\n",
    "warnings.filterwarnings('ignore')\n",
    "\n",
    "import ipywidgets as widgets\n",
    "from IPython.display import display, clear_output"
   ]
  },
  {
   "cell_type": "code",
   "execution_count": 24,
   "id": "e6769b6d",
   "metadata": {},
   "outputs": [],
   "source": [
    "#!jupyter nbextension enable --py widgetsnbextension --sys-prefix\n",
    "#!jupyter server extension enable voila --sys-prefix"
   ]
  },
  {
   "cell_type": "code",
   "execution_count": 25,
   "id": "42e045ba",
   "metadata": {},
   "outputs": [],
   "source": [
    "# Image Widget\n",
    "label_headline = widgets.Label(\n",
    "                    value='DSCI551 Final Project',\n",
    "                    style={'description_width': 'initial'}\n",
    "                )\n",
    "\n",
    "vbox_headline = widgets.VBox([label_headline])"
   ]
  },
  {
   "cell_type": "code",
   "execution_count": 26,
   "id": "2690415d",
   "metadata": {},
   "outputs": [],
   "source": [
    "fire = widgets.Dropdown(\n",
    "    options=['mkdir', 'ls', 'cat', 'rm', 'put', 'Get Partition Locations', 'Read Partition'],\n",
    "\n",
    "    description='Please select an opreation:',\n",
    "    disabled=False,\n",
    ")"
   ]
  },
  {
   "cell_type": "code",
   "execution_count": 27,
   "id": "4816d346",
   "metadata": {},
   "outputs": [],
   "source": [
    "# grandson/granddaughter\n",
    "\n",
    "grand = widgets.ToggleButtons(\n",
    "            options=['grandson', 'granddaughter']\n",
    "        )"
   ]
  },
  {
   "cell_type": "code",
   "execution_count": 28,
   "id": "5004b807",
   "metadata": {},
   "outputs": [],
   "source": [
    "# name\n",
    "\n",
    "name = widgets.Text(placeholder='Your name here')\n"
   ]
  },
  {
   "cell_type": "code",
   "execution_count": 29,
   "id": "3b05c677",
   "metadata": {},
   "outputs": [],
   "source": [
    "date = widgets.DatePicker(description='Pick a Date')"
   ]
  },
  {
   "cell_type": "code",
   "execution_count": 30,
   "id": "8b4d9bf7",
   "metadata": {},
   "outputs": [],
   "source": [
    "# number of friends\n",
    "\n",
    "friends = widgets.IntSlider(\n",
    "            value=3, # default value\n",
    "            min=0, \n",
    "            max=10,\n",
    "            step=1,\n",
    "            style={'description_width': 'initial', 'handle_color': '#16a085'} \n",
    "        )"
   ]
  },
  {
   "cell_type": "code",
   "execution_count": 31,
   "id": "77dc5ca5",
   "metadata": {},
   "outputs": [],
   "source": [
    "# button send\n",
    "\n",
    "button_send = widgets.Button(\n",
    "                description='Send to grandma',\n",
    "                tooltip='Send',\n",
    "                style={'description_width': 'initial'}\n",
    "            )\n",
    "\n",
    "output = widgets.Output()\n",
    "\n",
    "def on_button_clicked(event):\n",
    "    with output:\n",
    "        clear_output()\n",
    "        print(\"Sent message: \")\n",
    "        print(f\"Dear Grandma! This is your favourite {fire.value}, {name.value}.\")\n",
    "        print(f\"I would love to come over on {date.value} for dinner, if that's okay for you!\")\n",
    "        print(f\"Also, if you don't mind, I'll bring along {friends.value} hungry ghosts for your delicious food!\")\n",
    "\n",
    "button_send.on_click(on_button_clicked)\n",
    "\n",
    "vbox_result = widgets.VBox([button_send, output])"
   ]
  },
  {
   "cell_type": "code",
   "execution_count": 32,
   "id": "120e9073",
   "metadata": {},
   "outputs": [],
   "source": [
    "# stacked right hand side\n",
    "\n",
    "text_0 = widgets.HTML(value=\"Dear Grandma!\")\n",
    "text_1 = widgets.HTML(value=\"This is your favourite\")\n",
    "text_2= widgets.HTML(value=\"I would love to come over on \")\n",
    "text_3= widgets.HTML(value=\"for dinner, if that's okay for you!\")\n",
    "text_4= widgets.HTML(value=\"Also, if you don't mind, I'll bring along \")\n",
    "text_5= widgets.HTML(value=\"hungry ghosts for dinner, if that's okay for you!\")\n",
    "\n",
    "vbox_text = widgets.VBox([text_0, text_1, grand, name, text_2, date, text_3, text_4, friends, text_5, vbox_result, fire])"
   ]
  },
  {
   "cell_type": "code",
   "execution_count": 33,
   "id": "7143947e",
   "metadata": {},
   "outputs": [
    {
     "data": {
      "application/vnd.jupyter.widget-view+json": {
       "model_id": "989f70a1e8c14161be623796a632884a",
       "version_major": 2,
       "version_minor": 0
      },
      "text/plain": [
       "HBox(children=(VBox(children=(Label(value='DSCI551 Final Project', style=DescriptionStyle(description_width='i…"
      ]
     },
     "metadata": {},
     "output_type": "display_data"
    }
   ],
   "source": [
    "page = widgets.HBox([vbox_headline, vbox_text])\n",
    "display(page)"
   ]
  },
  {
   "cell_type": "code",
   "execution_count": null,
   "id": "e0508bc2",
   "metadata": {},
   "outputs": [],
   "source": []
  }
 ],
 "metadata": {
  "kernelspec": {
   "display_name": "Python 3 (ipykernel)",
   "language": "python",
   "name": "python3"
  },
  "language_info": {
   "codemirror_mode": {
    "name": "ipython",
    "version": 3
   },
   "file_extension": ".py",
   "mimetype": "text/x-python",
   "name": "python",
   "nbconvert_exporter": "python",
   "pygments_lexer": "ipython3",
   "version": "3.9.7"
  }
 },
 "nbformat": 4,
 "nbformat_minor": 5
}
